{
 "cells": [
  {
   "cell_type": "code",
   "execution_count": null,
   "metadata": {},
   "outputs": [],
   "source": [
    "# on linux\n",
    "! pip3 install slackclient"
   ]
  },
  {
   "cell_type": "code",
   "execution_count": null,
   "metadata": {},
   "outputs": [],
   "source": [
    "import os\n",
    "import datetime\n",
    "import slack\n",
    "\n",
    "from credentials import PRODUCTION_OAUTH_TOKEN\n",
    "\n",
    "client = slack.WebClient(PRODUCTION_OAUTH_TOKEN)\n",
    "\n",
    "FOOD_CHANNEL = \"#Food\""
   ]
  },
  {
   "cell_type": "markdown",
   "metadata": {},
   "source": [
    "JAPO"
   ]
  },
  {
   "cell_type": "code",
   "execution_count": null,
   "metadata": {},
   "outputs": [],
   "source": [
    "client.chat_postMessage(\"#Food\", text=\"גאפו בסיבוס\")"
   ]
  },
  {
   "cell_type": "markdown",
   "metadata": {},
   "source": [
    "Simple way to post Eli's order periodically"
   ]
  },
  {
   "cell_type": "code",
   "execution_count": null,
   "metadata": {},
   "outputs": [],
   "source": [
    "ELIS = \"פיתה רחוב - גבעתיים\"\n",
    "for i in range(2, 6):\n",
    "    day = datetime.date.today() + datetime.timedelta(days=i)\n",
    "    scheduled_time = datetime.time(hour=10, minute=12)\n",
    "    schedule_timestamp = datetime.datetime.combine(day, scheduled_time).strftime('%s')\n",
    "\n",
    "    res = client.chat_scheduleMessage(channel=\"#Food\", post_at=schedule_timestamp, text=ELIS)\n",
    "    print(res.data)"
   ]
  },
  {
   "cell_type": "markdown",
   "metadata": {},
   "source": [
    "Delete all schedule messages"
   ]
  },
  {
   "cell_type": "code",
   "execution_count": null,
   "metadata": {},
   "outputs": [],
   "source": [
    "client.chat_scheduledMessages_list().data"
   ]
  },
  {
   "cell_type": "code",
   "execution_count": null,
   "metadata": {},
   "outputs": [],
   "source": [
    "for msg_sch in client.chat_scheduledMessages_list().data['scheduled_messages']:\n",
    "    r = client.chat_deleteScheduledMessage(channel=msg_sch['channel_id'], scheduled_message_id=msg_sch['id'])\n",
    "    print(r)"
   ]
  }
 ],
 "metadata": {
  "kernelspec": {
   "display_name": "Python 3.8.1 64-bit",
   "language": "python",
   "name": "python3"
  },
  "language_info": {
   "codemirror_mode": {
    "name": "ipython",
    "version": 3
   },
   "file_extension": ".py",
   "mimetype": "text/x-python",
   "name": "python",
   "nbconvert_exporter": "python",
   "pygments_lexer": "ipython3",
   "version": "3.8.1"
  },
  "orig_nbformat": 4,
  "vscode": {
   "interpreter": {
    "hash": "9650cb4e16cdd4a8e8e2d128bf38d875813998db22a3c986335f89e0cb4d7bb2"
   }
  }
 },
 "nbformat": 4,
 "nbformat_minor": 2
}
